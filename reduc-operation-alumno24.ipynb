{
 "cells": [
  {
   "cell_type": "markdown",
   "id": "f942d288-be01-42cd-9b84-83529c6769be",
   "metadata": {},
   "source": [
    "### Reduction operation: the sum of the numbers in the range [0, a)"
   ]
  },
  {
   "cell_type": "code",
   "execution_count": 3,
   "id": "496946fa-2a28-4c1d-8a6a-2ee0b8fd8ced",
   "metadata": {},
   "outputs": [
    {
     "name": "stdout",
     "output_type": "stream",
     "text": [
      "Time taken by reduction operation: 0.2850522994995117 seconds\n",
      "255 ms ± 35.2 µs per loop (mean ± std. dev. of 2 runs, 1 loop each)\n",
      "\n",
      " \t Computing the sum of numbers in the range [0, value): 499999500000\n",
      "\n"
     ]
    }
   ],
   "source": [
    "import time\n",
    "\n",
    "def reduc_operation(a):\n",
    "    \"\"\"Compute the sum of the numbers in the range [0, a).\"\"\"\n",
    "    x = 0\n",
    "    for i in range(a):\n",
    "        x += i\n",
    "    return x\n",
    "\n",
    "# Secuencial\n",
    "\n",
    "value = 1000000\n",
    "\n",
    "initialTime = time.time()\n",
    "suma = reduc_operation(value)\n",
    "finalTime = time.time()\n",
    "\n",
    "print(\"Time taken by reduction operation:\", (finalTime - initialTime), \"seconds\")\n",
    "\n",
    "# Utilizando las operaciones mágicas de ipython\n",
    "%timeit -r 2 reduc_operation(value)\n",
    "\n",
    "print(f\"\\n \\t Computing the sum of numbers in the range [0, value): {suma}\\n\") "
   ]
  },
  {
   "cell_type": "code",
   "execution_count": 7,
   "id": "3c6faf2a-6986-4023-be66-672c3be5d193",
   "metadata": {},
   "outputs": [
    {
     "name": "stdout",
     "output_type": "stream",
     "text": [
      "Time with list + for: 0.44138145446777344 seconds\n",
      "Time with list + sum(): 0.03200864791870117 seconds\n",
      "Resultado con sum(lista): 499999500000\n"
     ]
    }
   ],
   "source": [
    "# a) Uso de listas\n",
    "lista = list(range(value))\n",
    "\n",
    "# a.1) Suma usando bucle for\n",
    "initialTime = time.time()\n",
    "suma_lista = 0\n",
    "for i in lista:\n",
    "    suma_lista += i\n",
    "finalTime = time.time()\n",
    "print(\"Time with list + for:\", finalTime - initialTime, \"seconds\")\n",
    "\n",
    "# a.2) Suma usando sum()\n",
    "initialTime = time.time()\n",
    "suma_builtin = sum(lista)\n",
    "finalTime = time.time()\n",
    "print(\"Time with list + sum():\", finalTime - initialTime, \"seconds\")\n",
    "\n",
    "# Validación\n",
    "print(\"Resultado con sum(lista):\", suma_builtin)\n",
    "\n",
    "#Aquí uso range() para crear la lista, y comparo el tiempo con for y con sum()\n"
   ]
  },
  {
   "cell_type": "code",
   "execution_count": 8,
   "id": "d83288d7-6304-454a-bb24-514d4c0a88be",
   "metadata": {},
   "outputs": [
    {
     "name": "stdout",
     "output_type": "stream",
     "text": [
      "Time with numpy array + for: 0.8982729911804199 seconds\n",
      "Time with numpy + np.sum(): 0.0036170482635498047 seconds\n",
      "Resultado con np.sum: 499999500000\n"
     ]
    }
   ],
   "source": [
    "import numpy as np\n",
    "\n",
    "# b) Conversión a array de numpy\n",
    "array = np.array(lista)\n",
    "\n",
    "# b.1) Suma con bucle for\n",
    "initialTime = time.time()\n",
    "suma_np_for = 0\n",
    "for i in array:\n",
    "    suma_np_for += i\n",
    "finalTime = time.time()\n",
    "print(\"Time with numpy array + for:\", finalTime - initialTime, \"seconds\")\n",
    "\n",
    "# b.2) Suma con np.sum()\n",
    "initialTime = time.time()\n",
    "suma_np = np.sum(array)\n",
    "finalTime = time.time()\n",
    "print(\"Time with numpy + np.sum():\", finalTime - initialTime, \"seconds\")\n",
    "\n",
    "# Validación\n",
    "print(\"Resultado con np.sum:\", suma_np)\n",
    "\n",
    "#Esto me permite comparar el rendimiento entree listas y arrays de NumPy, destacando que np.sum() es mucho más eficiente que un bucle explícito"
   ]
  },
  {
   "cell_type": "markdown",
   "id": "e1885b04-d492-46b6-a63c-e9b4751fdf07",
   "metadata": {},
   "source": [
    "### Comparación de rendimientos entre métodos de reducción\n",
    "- **Listas en Python:**\n",
    "  - Bucle `for`: ~0.44 segundos\n",
    "  - Función `sum()`: ~0.03 segundos\n",
    "\n",
    "- **Arrays con NumPy:**\n",
    "  - Bucle `for`: ~0.89 segundos\n",
    "  - Función `np.sum()`: ~0.0036 segundos\n",
    "\n",
    "### Análisis\n",
    "- El uso de listas con `sum()` mejora significativamente el tiempo respecto a un bucle `for`, ya que `sum()` está implementada de forma más eficiente.\n",
    "- Al convertir la lista a un array de NumPy, observamos que el bucle `for` se vuelve aún más lento que con listas, debido a que los arrays requieren un acceso más estructurado en memoria, y el `for` no aprovecha la vectorización.\n",
    "- Sin embargo, `np.sum()` ofrece el mejor rendimiento con diferencia. Esto se debe a que NumPy está implementado internamente en C, y sus operaciones están optimizadas al máximo.\n",
    "\n",
    "### Conclusión\n",
    "Para operaciones de reducción, el uso de NumPy junto con sus funciones vectorizadas como `np.sum()` es la opción más eficiente. Usar `sum()` sobre listas es aceptable, pero los bucles `for` son significativamente menos eficientes en comparación.\n"
   ]
  },
  {
   "cell_type": "code",
   "execution_count": null,
   "id": "5090e6fe-3a74-42d2-a211-68e850f57206",
   "metadata": {},
   "outputs": [],
   "source": []
  }
 ],
 "metadata": {
  "kernelspec": {
   "display_name": "Python 3 (ipykernel)",
   "language": "python",
   "name": "python3"
  },
  "language_info": {
   "codemirror_mode": {
    "name": "ipython",
    "version": 3
   },
   "file_extension": ".py",
   "mimetype": "text/x-python",
   "name": "python",
   "nbconvert_exporter": "python",
   "pygments_lexer": "ipython3",
   "version": "3.10.9"
  }
 },
 "nbformat": 4,
 "nbformat_minor": 5
}
