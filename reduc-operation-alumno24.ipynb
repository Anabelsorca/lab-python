{
 "cells": [
  {
   "cell_type": "markdown",
   "id": "f942d288-be01-42cd-9b84-83529c6769be",
   "metadata": {},
   "source": [
    "### Reduction operation: the sum of the numbers in the range [0, a)"
   ]
  },
  {
   "cell_type": "code",
   "execution_count": 8,
   "id": "496946fa-2a28-4c1d-8a6a-2ee0b8fd8ced",
   "metadata": {},
   "outputs": [
    {
     "name": "stdout",
     "output_type": "stream",
     "text": [
      "Time taken by reduction operation: 0.27745771408081055 seconds\n",
      "255 ms ± 5.95 ms per loop (mean ± std. dev. of 2 runs, 1 loop each)\n",
      "\n",
      " \t Computing the sum of numbers in the range [0, value): 499999500000\n",
      "\n"
     ]
    }
   ],
   "source": [
    "import time\n",
    "\n",
    "def reduc_operation(a):\n",
    "    \"\"\"Compute the sum of the numbers in the range [0, a).\"\"\"\n",
    "    x = 0\n",
    "    for i in range(a):\n",
    "        x += i\n",
    "    return x\n",
    "\n",
    "# Secuencial\n",
    "\n",
    "value = 1000000\n",
    "\n",
    "initialTime = time.time()\n",
    "suma = reduc_operation(value)\n",
    "finalTime = time.time()\n",
    "\n",
    "print(\"Time taken by reduction operation:\", (finalTime - initialTime), \"seconds\")\n",
    "\n",
    "# Utilizando las operaciones mágicas de ipython\n",
    "%timeit -r 2 reduc_operation(value)\n",
    "\n",
    "print(f\"\\n \\t Computing the sum of numbers in the range [0, value): {suma}\\n\") "
   ]
  },
  {
   "cell_type": "code",
   "execution_count": 9,
   "id": "3c6faf2a-6986-4023-be66-672c3be5d193",
   "metadata": {},
   "outputs": [
    {
     "name": "stdout",
     "output_type": "stream",
     "text": [
      "Time with list + for: 0.4436678886413574 seconds\n",
      "Time with list + sum(): 0.030950069427490234 seconds\n",
      "Resultado con sum(lista): 499999500000\n",
      "29.8 ms ± 1.15 µs per loop (mean ± std. dev. of 2 runs, 10 loops each)\n"
     ]
    }
   ],
   "source": [
    "# Ejercicio 3.2:\n",
    "\n",
    "# a) Uso de listas\n",
    "lista = list(range(value))\n",
    "\n",
    "# a.1) Suma usando bucle for\n",
    "initialTime = time.time()\n",
    "suma_lista = 0\n",
    "for i in lista:\n",
    "    suma_lista += i\n",
    "finalTime = time.time()\n",
    "print(\"Time with list + for:\", finalTime - initialTime, \"seconds\")\n",
    "\n",
    "# a.2) Suma usando sum()\n",
    "initialTime = time.time()\n",
    "suma_builtin = sum(lista)\n",
    "finalTime = time.time()\n",
    "print(\"Time with list + sum():\", finalTime - initialTime, \"seconds\")\n",
    "\n",
    "# Validación\n",
    "print(\"Resultado con sum(lista):\", suma_builtin)\n",
    "\n",
    "# Con timeit\n",
    "%timeit -r 2 sum(lista)"
   ]
  },
  {
   "cell_type": "code",
   "execution_count": 11,
   "id": "d83288d7-6304-454a-bb24-514d4c0a88be",
   "metadata": {},
   "outputs": [
    {
     "name": "stdout",
     "output_type": "stream",
     "text": [
      "Time with numpy array + for: 0.9317800998687744 seconds\n",
      "Time with numpy + np.sum(): 0.0018625259399414062 seconds\n",
      "Resultado con np.sum: 499999500000\n",
      "1.37 ms ± 4.89 µs per loop (mean ± std. dev. of 2 runs, 1,000 loops each)\n"
     ]
    }
   ],
   "source": [
    "import numpy as np\n",
    "\n",
    "# b) Conversión a array de numpy\n",
    "array = np.array(lista)\n",
    "\n",
    "# b.1) Suma con bucle for\n",
    "initialTime = time.time()\n",
    "suma_np_for = 0\n",
    "for i in array:\n",
    "    suma_np_for += i\n",
    "finalTime = time.time()\n",
    "print(\"Time with numpy array + for:\", finalTime - initialTime, \"seconds\")\n",
    "\n",
    "# b.2) np.sum()\n",
    "initialTime = time.time()\n",
    "suma_np = np.sum(array)\n",
    "finalTime = time.time()\n",
    "print(\"Time with numpy + np.sum():\", finalTime - initialTime, \"seconds\")\n",
    "print(\"Resultado con np.sum:\", suma_np)\n",
    "\n",
    "# Con timeit\n",
    "%timeit -r 2 np.sum(array)"
   ]
  },
  {
   "cell_type": "markdown",
   "id": "a8143213-75c3-4a65-b686-8e582e8d6cca",
   "metadata": {},
   "source": [
    "### Comparativa entre Python puro, listas, y NumPy\n",
    "Los resultados obtenidos han sido los siguientes:\n",
    "#### a) Listas de Python\n",
    "- **Bucle for sobre lista:** ~0.44 segundos\n",
    "- **sum(lista):** ~0.031 segundos\n",
    "- **%timeit sum(lista):** ~29.8 ms por ejecución\n",
    "Usar `sum()` directamente sobre la lista es significativamente más rápido que recorrerla manualmente con un bucle `for`. Esto se debe a que `sum()` está implementada en C internamente, lo que la hace mucho más eficiente que un bucle de Python.\n",
    "#### b) Arrays de NumPy\n",
    "- **Bucle for sobre array:** ~0.94 segundos\n",
    "- **np.sum(array):** ~0.0025 segundos\n",
    "- **%timeit np.sum(array):** ~1.4 ms por ejecución\n",
    "\n",
    "Aunque los arrays de NumPy ofrecen ventajas para operaciones, recorrerlos manualmente con un bucle `for` es incluso más lento que hacerlo sobre listas.\n",
    "Sin embargo, el uso de `np.sum()` proporciona el mejor rendimiento de todos los métodos probados. Es ideal para trabajar con grandes volúmenes de datos."
   ]
  },
  {
   "cell_type": "code",
   "execution_count": null,
   "id": "d70c7771-d8dd-44a3-85f5-3bd04fbc3fd7",
   "metadata": {},
   "outputs": [],
   "source": []
  }
 ],
 "metadata": {
  "kernelspec": {
   "display_name": "Python 3 (ipykernel)",
   "language": "python",
   "name": "python3"
  },
  "language_info": {
   "codemirror_mode": {
    "name": "ipython",
    "version": 3
   },
   "file_extension": ".py",
   "mimetype": "text/x-python",
   "name": "python",
   "nbconvert_exporter": "python",
   "pygments_lexer": "ipython3",
   "version": "3.10.9"
  }
 },
 "nbformat": 4,
 "nbformat_minor": 5
}
