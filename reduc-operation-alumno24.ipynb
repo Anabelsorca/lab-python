{
 "cells": [
  {
   "cell_type": "markdown",
   "id": "f942d288-be01-42cd-9b84-83529c6769be",
   "metadata": {},
   "source": [
    "### Reduction operation: the sum of the numbers in the range [0, a)"
   ]
  },
  {
   "cell_type": "code",
   "execution_count": 3,
   "id": "496946fa-2a28-4c1d-8a6a-2ee0b8fd8ced",
   "metadata": {},
   "outputs": [
    {
     "name": "stdout",
     "output_type": "stream",
     "text": [
      "Time taken by reduction operation: 0.2612435817718506 seconds\n",
      "256 ms ± 176 µs per loop (mean ± std. dev. of 2 runs, 1 loop each)\n",
      "\n",
      " \t Computing the sum of numbers in the range [0, value): 499999500000\n",
      "\n"
     ]
    }
   ],
   "source": [
    "import time\n",
    "import sys\n",
    "\n",
    "def reduc_operation(a):\n",
    "    \"\"\"Compute the sum of the numbers in the range [0, a).\"\"\"\n",
    "    x = 0\n",
    "    for i in range(a):\n",
    "        x += i\n",
    "    return x\n",
    "\n",
    "if len(sys.argv) > 1:\n",
    "    try:\n",
    "        value = int(sys.argv[1])\n",
    "    except ValueError:\n",
    "        print(\"Error: el argumento debe ser un entero\")\n",
    "        sys.exit(1)\n",
    "else:\n",
    "    value = 1000000  # Valor por defecto si no se indica nada\n",
    "\n",
    "print(\"Ejecutando con value =\", value)\n",
    "\n",
    "# Secuencial\n",
    "\n",
    "initialTime = time.time()\n",
    "suma = reduc_operation(value)\n",
    "finalTime = time.time()\n",
    "\n",
    "print(\"Time taken by reduction operation:\", (finalTime - initialTime), \"seconds\")\n",
    "\n",
    "# Utilizando las operaciones mágicas de ipython\n",
    "%timeit -r 2 reduc_operation(value)\n",
    "\n",
    "print(f\"\\n \\t Computing the sum of numbers in the range [0, value): {suma}\\n\") "
   ]
  },
  {
   "cell_type": "code",
   "execution_count": 4,
   "id": "3c6faf2a-6986-4023-be66-672c3be5d193",
   "metadata": {},
   "outputs": [
    {
     "name": "stdout",
     "output_type": "stream",
     "text": [
      "Time with list + for: 0.4806859493255615 seconds\n",
      "Time with list + sum(): 0.04690814018249512 seconds\n",
      "Resultado con sum(lista): 499999500000\n",
      "30.4 ms ± 410 µs per loop (mean ± std. dev. of 2 runs, 10 loops each)\n"
     ]
    }
   ],
   "source": [
    "# Ejercicio 3.2:\n",
    "\n",
    "# a) Uso de listas\n",
    "lista = list(range(value))\n",
    "\n",
    "# a.1) Suma usando bucle for\n",
    "initialTime = time.time()\n",
    "suma_lista = 0\n",
    "for i in lista:\n",
    "    suma_lista += i\n",
    "finalTime = time.time()\n",
    "print(\"Time with list + for:\", finalTime - initialTime, \"seconds\")\n",
    "\n",
    "# a.2) Suma usando sum()\n",
    "initialTime = time.time()\n",
    "suma_builtin = sum(lista)\n",
    "finalTime = time.time()\n",
    "print(\"Time with list + sum():\", finalTime - initialTime, \"seconds\")\n",
    "\n",
    "# Validación\n",
    "print(\"Resultado con sum(lista):\", suma_builtin)\n",
    "\n",
    "# Con timeit\n",
    "%timeit -r 2 sum(lista)"
   ]
  },
  {
   "cell_type": "code",
   "execution_count": 5,
   "id": "d83288d7-6304-454a-bb24-514d4c0a88be",
   "metadata": {},
   "outputs": [
    {
     "name": "stdout",
     "output_type": "stream",
     "text": [
      "Time with numpy array + for: 0.9612452983856201 seconds\n",
      "Time with numpy + np.sum(): 0.0023126602172851562 seconds\n",
      "Resultado con np.sum: 499999500000\n",
      "1.39 ms ± 4.86 µs per loop (mean ± std. dev. of 2 runs, 1,000 loops each)\n"
     ]
    }
   ],
   "source": [
    "import numpy as np\n",
    "\n",
    "# b) Conversión a array de numpy\n",
    "array = np.array(lista)\n",
    "\n",
    "# b.1) Suma con bucle for\n",
    "initialTime = time.time()\n",
    "suma_np_for = 0\n",
    "for i in array:\n",
    "    suma_np_for += i\n",
    "finalTime = time.time()\n",
    "print(\"Time with numpy array + for:\", finalTime - initialTime, \"seconds\")\n",
    "\n",
    "# b.2) np.sum()\n",
    "initialTime = time.time()\n",
    "suma_np = np.sum(array)\n",
    "finalTime = time.time()\n",
    "print(\"Time with numpy + np.sum():\", finalTime - initialTime, \"seconds\")\n",
    "print(\"Resultado con np.sum:\", suma_np)\n",
    "\n",
    "# Con timeit\n",
    "%timeit -r 2 np.sum(array)"
   ]
  },
  {
   "cell_type": "markdown",
   "id": "a8143213-75c3-4a65-b686-8e582e8d6cca",
   "metadata": {},
   "source": [
    "### Comparativa entre Python puro, listas, y NumPy\n",
    "Los resultados obtenidos han sido los siguientes:\n",
    "#### a) Listas de Python\n",
    "- **Bucle for sobre lista:** ~0.44 segundos\n",
    "- **sum(lista):** ~0.031 segundos\n",
    "- **%timeit sum(lista):** ~29.8 ms por ejecución\n",
    "Usar `sum()` directamente sobre la lista es significativamente más rápido que recorrerla manualmente con un bucle `for`. Esto se debe a que `sum()` está implementada en C internamente, lo que la hace mucho más eficiente que un bucle de Python.\n",
    "#### b) Arrays de NumPy\n",
    "- **Bucle for sobre array:** ~0.94 segundos\n",
    "- **np.sum(array):** ~0.0025 segundos\n",
    "- **%timeit np.sum(array):** ~1.4 ms por ejecución\n",
    "\n",
    "Aunque los arrays de NumPy ofrecen ventajas para operaciones, recorrerlos manualmente con un bucle `for` es incluso más lento que hacerlo sobre listas.\n",
    "Sin embargo, el uso de `np.sum()` proporciona el mejor rendimiento de todos los métodos probados. Es ideal para trabajar con grandes volúmenes de datos."
   ]
  },
  {
   "cell_type": "code",
   "execution_count": 7,
   "id": "d70c7771-d8dd-44a3-85f5-3bd04fbc3fd7",
   "metadata": {},
   "outputs": [
    {
     "name": "stdout",
     "output_type": "stream",
     "text": [
      "Time with Numba + for: 0.485706090927124 seconds\n",
      "Resultado con Numba + for: 499999500000\n",
      "1.49 ms ± 6.52 µs per loop (mean ± std. dev. of 2 runs, 1,000 loops each)\n"
     ]
    }
   ],
   "source": [
    "# Ejercicio 3.3:\n",
    "\n",
    "from numba import njit\n",
    "\n",
    "@njit\n",
    "def reduc_with_loop_numba(arr):\n",
    "    total = 0\n",
    "    for i in arr:\n",
    "        total += i\n",
    "    return total\n",
    "\n",
    "value = 10**6\n",
    "arr = np.arange(value)\n",
    "\n",
    "# Medición con time.time()\n",
    "start = time.time()\n",
    "result_numba = reduc_with_loop_numba(arr)\n",
    "end = time.time()\n",
    "print(\"Time with Numba + for:\", end - start, \"seconds\")\n",
    "print(\"Resultado con Numba + for:\", result_numba)\n",
    "\n",
    "# Medición precisa usando timeit\n",
    "%timeit -r 2 reduc_with_loop_numba(arr)"
   ]
  },
  {
   "cell_type": "markdown",
   "id": "3de5d4c4-156a-4e80-8e74-76f9a36e1660",
   "metadata": {},
   "source": [
    "## Resultados con Numba:\n",
    "El uso del decorador `@njit` de Numba ha reducido significativamente el tiempo de ejecución respecto al bucle for con listas o arrays de NumPy. Aunque np.sum() sigue siendo más rápido, Numba permite acelerar funciones personalizadas y bucles complejos.\n"
   ]
  }
 ],
 "metadata": {
  "kernelspec": {
   "display_name": "Python 3.9",
   "language": "python",
   "name": "python3"
  },
  "language_info": {
   "codemirror_mode": {
    "name": "ipython",
    "version": 3
   },
   "file_extension": ".py",
   "mimetype": "text/x-python",
   "name": "python",
   "nbconvert_exporter": "python",
   "pygments_lexer": "ipython3",
   "version": "3.9.21"
  }
 },
 "nbformat": 4,
 "nbformat_minor": 5
}
